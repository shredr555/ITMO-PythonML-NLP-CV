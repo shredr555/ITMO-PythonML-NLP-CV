{
  "cells": [
    {
      "cell_type": "markdown",
      "metadata": {
        "id": "885nCnaEi6Zq"
      },
      "source": [
        "В этом задании мы рассмотрим работу UDpipe с двумя моделями:\n",
        "\n",
        "* предварительно обученной на SynTagRus [link](https://universaldependencies.org/treebanks/ru_syntagrus/index.html)\n",
        "* обученной на Taiga [link](https://universaldependencies.org/treebanks/ru_taiga/index.html)"
      ]
    },
    {
      "cell_type": "markdown",
      "metadata": {
        "id": "Xi3sqi2ni6Zw"
      },
      "source": [
        "## Подключение необходимых модулей"
      ]
    },
    {
      "cell_type": "code",
      "execution_count": null,
      "metadata": {
        "colab": {
          "base_uri": "https://localhost:8080/"
        },
        "id": "pFELL0b6i6Zz",
        "outputId": "37eb2b67-20d0-43ce-a1d2-15ee563295ff"
      },
      "outputs": [
        {
          "output_type": "stream",
          "name": "stdout",
          "text": [
            "\u001b[?25l     \u001b[90m━━━━━━━━━━━━━━━━━━━━━━━━━━━━━━━━━━━━━━━━\u001b[0m \u001b[32m0.0/937.2 KB\u001b[0m \u001b[31m?\u001b[0m eta \u001b[36m-:--:--\u001b[0m\r\u001b[2K     \u001b[91m━━━━━━━━━━━━━━━━━━━━━━━\u001b[0m\u001b[90m╺\u001b[0m\u001b[90m━━━━━━━━━━━━━━\u001b[0m \u001b[32m573.4/937.2 KB\u001b[0m \u001b[31m19.0 MB/s\u001b[0m eta \u001b[36m0:00:01\u001b[0m\r\u001b[2K     \u001b[90m━━━━━━━━━━━━━━━━━━━━━━━━━━━━━━━━━━━━━━\u001b[0m \u001b[32m937.2/937.2 KB\u001b[0m \u001b[31m13.5 MB/s\u001b[0m eta \u001b[36m0:00:00\u001b[0m\n",
            "\u001b[?25h"
          ]
        }
      ],
      "source": [
        "! pip install -q conllu\n",
        "! pip install -q graphviz\n",
        "! pip install -q ufal.udpipe"
      ]
    },
    {
      "cell_type": "markdown",
      "metadata": {
        "id": "-w82dt3Ki6aJ"
      },
      "source": [
        "## Загрузка моделей"
      ]
    },
    {
      "cell_type": "code",
      "execution_count": null,
      "metadata": {
        "id": "kDboaNgQi6aK"
      },
      "outputs": [],
      "source": [
        "!wget -q 'https://lindat.mff.cuni.cz/repository/xmlui/bitstream/handle/11234/1-3131/russian-syntagrus-ud-2.5-191206.udpipe'\n",
        "!wget -q 'https://lindat.mff.cuni.cz/repository/xmlui/bitstream/handle/11234/1-3131/russian-taiga-ud-2.5-191206.udpipe'"
      ]
    },
    {
      "cell_type": "markdown",
      "metadata": {
        "id": "05htpbLZi6as"
      },
      "source": [
        "На этом подготовка материалов завершена, переходим к написанию кода для синтаксического анализа"
      ]
    },
    {
      "cell_type": "markdown",
      "metadata": {
        "id": "4RfK9-zii6aw"
      },
      "source": [
        "## Подключение библиотек"
      ]
    },
    {
      "cell_type": "code",
      "execution_count": null,
      "metadata": {
        "id": "dmf7LI_0i6ax"
      },
      "outputs": [],
      "source": [
        "import sys\n",
        "\n",
        "from conllu import parse\n",
        "from graphviz import Digraph\n",
        "from ufal.udpipe import Model, Pipeline, ProcessingError"
      ]
    },
    {
      "cell_type": "markdown",
      "metadata": {
        "id": "ufl9Rvugi6a3"
      },
      "source": [
        "## Настройка работы с моделями"
      ]
    },
    {
      "cell_type": "code",
      "execution_count": null,
      "metadata": {
        "colab": {
          "base_uri": "https://localhost:8080/"
        },
        "id": "Rj7bbVu4i6a4",
        "outputId": "3397e2c0-e726-4bcf-b6c6-2f8564d8b943"
      },
      "outputs": [
        {
          "output_type": "stream",
          "name": "stdout",
          "text": [
            "Loading model:russian-syntagrus-ud-2.5-191206.udpipe\n",
            "Loading done\n",
            "Loading model:russian-taiga-ud-2.5-191206.udpipe\n",
            "Loading done\n"
          ]
        }
      ],
      "source": [
        "INPUT_FORMAT = \"tokenize\"\n",
        "OUTPUT_FORMAT = \"conllu\"\n",
        "SYNTAGRUS_MODEL_FILE = \"russian-syntagrus-ud-2.5-191206.udpipe\"\n",
        "TAIGA_MODEL_FILE = \"russian-taiga-ud-2.5-191206.udpipe\"\n",
        "\n",
        "print(\"Loading model:\" + SYNTAGRUS_MODEL_FILE)\n",
        "syntagrus_model = Model.load(SYNTAGRUS_MODEL_FILE)\n",
        "print(\"Loading done\")\n",
        "\n",
        "print(\"Loading model:\" + TAIGA_MODEL_FILE)\n",
        "taiga_model = Model.load(TAIGA_MODEL_FILE)\n",
        "print(\"Loading done\")"
      ]
    },
    {
      "cell_type": "markdown",
      "metadata": {
        "id": "eFV0w_Xmi6bA"
      },
      "source": [
        "## Построение цепочки обработки"
      ]
    },
    {
      "cell_type": "markdown",
      "metadata": {
        "id": "201ztaiki6bB"
      },
      "source": [
        "Строим цепочку обработки  -- от сырого текста до синтаксического дерева"
      ]
    },
    {
      "cell_type": "code",
      "execution_count": null,
      "metadata": {
        "id": "NQxfMF_3i6bC"
      },
      "outputs": [],
      "source": [
        "syntagrus_pipeline = Pipeline(syntagrus_model, INPUT_FORMAT, \n",
        "                              Pipeline.DEFAULT, Pipeline.DEFAULT, OUTPUT_FORMAT)\n",
        "taiga_pipeline = Pipeline(taiga_model, INPUT_FORMAT, \n",
        "                          Pipeline.DEFAULT, Pipeline.DEFAULT, OUTPUT_FORMAT)\n",
        "\n",
        "error = ProcessingError()"
      ]
    },
    {
      "cell_type": "markdown",
      "metadata": {
        "id": "4rmXlR1ei6bI"
      },
      "source": [
        "Применение собственно цепочки обработки к сырому тексту; вывод в формате CoNLL-U."
      ]
    },
    {
      "cell_type": "code",
      "execution_count": null,
      "metadata": {
        "id": "MJedzauNi6bJ"
      },
      "outputs": [],
      "source": [
        "def parse_syntax(raw_text, pipeline):\n",
        "    \"\"\" Applying UDPipe \"\"\"\n",
        "    text = raw_text.strip()\n",
        "\n",
        "    # Process data\n",
        "    processed = pipeline.process(text, error)\n",
        "\n",
        "    if error.occurred():\n",
        "        sys.stderr.write(\"An error occurred when running run_udpipe: \")\n",
        "        sys.stderr.write(error.message)\n",
        "        sys.stderr.write(\"\\n\")\n",
        "\n",
        "    return processed"
      ]
    },
    {
      "cell_type": "markdown",
      "source": [
        "# Тут нужно менять текст на ваши варианты"
      ],
      "metadata": {
        "id": "rlbbmhg0xSSP"
      }
    },
    {
      "cell_type": "markdown",
      "metadata": {
        "id": "CHD7DOp3i6bP"
      },
      "source": [
        "Создадим два разбора, которые и будем сравнивать."
      ]
    },
    {
      "cell_type": "code",
      "execution_count": null,
      "metadata": {
        "id": "svFDIXCli6bS"
      },
      "outputs": [],
      "source": [
        "string = \"Эти изменения идут рука об руку с цифровыми коммуникациями.\"\n",
        "syntag = parse_syntax(string, syntagrus_pipeline)\n",
        "taiga = parse_syntax(string, taiga_pipeline)"
      ]
    },
    {
      "cell_type": "markdown",
      "metadata": {
        "id": "9JqN3OWvqbuV"
      },
      "source": [
        "Разбор предложения в текстовом виде будет выглядеть следующим образом:"
      ]
    },
    {
      "cell_type": "code",
      "execution_count": null,
      "metadata": {
        "colab": {
          "base_uri": "https://localhost:8080/"
        },
        "id": "IciMoyh0qbuW",
        "outputId": "c16108ac-f884-4d40-d3ee-429ef7cc39ae"
      },
      "outputs": [
        {
          "output_type": "stream",
          "name": "stdout",
          "text": [
            "# newdoc\n",
            "# newpar\n",
            "# sent_id = 1\n",
            "# text = Эти изменения идут рука об руку с цифровыми коммуникациями.\n",
            "1\tЭти\tэтот\tDET\tDET\tCase=Nom|Number=Plur\t2\tdet\t_\t_\n",
            "2\tизменения\tизменение\tNOUN\t_\tAnimacy=Inan|Case=Nom|Gender=Neut|Number=Plur\t3\tnsubj\t_\t_\n",
            "3\tидут\tидти\tVERB\tVERB\tAspect=Imp|Mood=Ind|Number=Plur|Person=3|Tense=Pres|VerbForm=Fin|Voice=Act\t0\troot\t_\t_\n",
            "4\tрука\tрука\tNOUN\t_\tAnimacy=Inan|Case=Nom|Gender=Fem|Number=Sing\t3\tnsubj\t_\t_\n",
            "5\tоб\tоб\tADP\t_\t_\t6\tcase\t_\t_\n",
            "6\tруку\tрука\tNOUN\t_\tAnimacy=Inan|Case=Acc|Gender=Fem|Number=Sing\t3\tobl\t_\t_\n",
            "7\tс\tс\tADP\t_\t_\t9\tcase\t_\t_\n",
            "8\tцифровыми\tцифровый\tADJ\t_\tCase=Ins|Degree=Pos|Number=Plur\t9\tamod\t_\t_\n",
            "9\tкоммуникациями\tкоммуникация\tNOUN\t_\tAnimacy=Inan|Case=Ins|Gender=Masc|Number=Sing\t3\tobl\t_\tSpaceAfter=No\n",
            "10\t.\t.\tPUNCT\t_\t_\t3\tpunct\t_\tSpacesAfter=\\n\n",
            "\n",
            "\n"
          ]
        }
      ],
      "source": [
        "print(taiga)"
      ]
    },
    {
      "cell_type": "markdown",
      "metadata": {
        "id": "jYKnnwqVqbuZ"
      },
      "source": [
        "Понятно, что в таком виде производить расчеты не очень удобно. Для вычисления LAS и UAS сначала представим деревья разбора в виде графов."
      ]
    },
    {
      "cell_type": "markdown",
      "metadata": {
        "id": "LGkqQEi1qbua"
      },
      "source": [
        "## Графововое представление дерева разбора\n",
        "\n",
        "Методами библиотеки `conllu` превращаем выданный нам udpipe разбор в формате CoNLL-U в дерево, с которым удобно работать.\n",
        "\n",
        "С помощью стандартного обхода в ширину наполняем рёбрами объект Digraph для последующей визуализации дерева с помощью `graphviz`."
      ]
    },
    {
      "cell_type": "code",
      "execution_count": null,
      "metadata": {
        "id": "jQ6zzoRni6bo"
      },
      "outputs": [],
      "source": [
        "from conllu import parse\n",
        "from graphviz import Digraph\n",
        "\n",
        "def parse_output(conll):\n",
        "    \"\"\"\n",
        "        Preparing the dependency tree for further processing\n",
        "    \"\"\"\n",
        "    sentences = parse(conll)\n",
        "    return [s.to_tree() for s  in sentences]\n",
        "\n",
        "\n",
        "class Root(object):\n",
        "  def __init__(self, child):\n",
        "    self.token = {\"form\": \"\", \"id\": 0, \"deprel\": \"root\"}\n",
        "    self.children = [child]\n",
        "\n",
        "def draw_tree(tree):\n",
        "    \"\"\" Drawing a dependency tree for debugging stuff \"\"\"\n",
        "\n",
        "    g = Digraph(format='png')\n",
        "\n",
        "    # a queue for tree traversal\n",
        "    queue = [Root(tree)]\n",
        "\n",
        "    while len(queue) > 0:\n",
        "      \n",
        "        head = queue.pop()\n",
        "        head_label = head.token[\"form\"] + \" (%d)\" % head.token[\"id\"]\n",
        "        queue.extend(head.children)\n",
        "\n",
        "        for c in head.children:\n",
        "            c_label = c.token[\"form\"] + \" (%d)\" %  c.token[\"id\"]\n",
        "            g.edge(head_label, c_label, label=c.token[\"deprel\"])\n",
        "\n",
        "    return g"
      ]
    },
    {
      "cell_type": "markdown",
      "metadata": {
        "id": "PGp5oQbUi6cQ"
      },
      "source": [
        "Построим оба дерева"
      ]
    },
    {
      "cell_type": "code",
      "execution_count": null,
      "metadata": {
        "id": "woGZyXqCqbuf"
      },
      "outputs": [],
      "source": [
        "str_tree = parse_output(syntag.strip())[0]\n",
        "taiga_tree = parse_output(taiga.strip())[0]"
      ]
    },
    {
      "cell_type": "code",
      "execution_count": null,
      "metadata": {
        "colab": {
          "base_uri": "https://localhost:8080/",
          "height": 544
        },
        "id": "ICivSE4eqbuh",
        "outputId": "2853c419-db95-4114-950a-96e4db74cccf"
      },
      "outputs": [
        {
          "output_type": "execute_result",
          "data": {
            "text/plain": [
              "<graphviz.dot.Digraph at 0x7f1ece2efe50>"
            ],
            "image/svg+xml": "<?xml version=\"1.0\" encoding=\"UTF-8\" standalone=\"no\"?>\n<!DOCTYPE svg PUBLIC \"-//W3C//DTD SVG 1.1//EN\"\n \"http://www.w3.org/Graphics/SVG/1.1/DTD/svg11.dtd\">\n<!-- Generated by graphviz version 2.43.0 (0)\n -->\n<!-- Title: %3 Pages: 1 -->\n<svg width=\"481pt\" height=\"392pt\"\n viewBox=\"0.00 0.00 480.89 392.00\" xmlns=\"http://www.w3.org/2000/svg\" xmlns:xlink=\"http://www.w3.org/1999/xlink\">\n<g id=\"graph0\" class=\"graph\" transform=\"scale(1 1) rotate(0) translate(4 388)\">\n<title>%3</title>\n<polygon fill=\"white\" stroke=\"transparent\" points=\"-4,4 -4,-388 476.89,-388 476.89,4 -4,4\"/>\n<!--  (0) -->\n<g id=\"node1\" class=\"node\">\n<title> (0)</title>\n<ellipse fill=\"none\" stroke=\"black\" cx=\"187.34\" cy=\"-366\" rx=\"27\" ry=\"18\"/>\n<text text-anchor=\"middle\" x=\"187.34\" y=\"-362.3\" font-family=\"Times,serif\" font-size=\"14.00\"> (0)</text>\n</g>\n<!-- идут (3) -->\n<g id=\"node2\" class=\"node\">\n<title>идут (3)</title>\n<ellipse fill=\"none\" stroke=\"black\" cx=\"187.34\" cy=\"-279\" rx=\"40.89\" ry=\"18\"/>\n<text text-anchor=\"middle\" x=\"187.34\" y=\"-275.3\" font-family=\"Times,serif\" font-size=\"14.00\">идут (3)</text>\n</g>\n<!--  (0)&#45;&gt;идут (3) -->\n<g id=\"edge1\" class=\"edge\">\n<title> (0)&#45;&gt;идут (3)</title>\n<path fill=\"none\" stroke=\"black\" d=\"M187.34,-347.8C187.34,-336.16 187.34,-320.55 187.34,-307.24\"/>\n<polygon fill=\"black\" stroke=\"black\" points=\"190.84,-307.18 187.34,-297.18 183.84,-307.18 190.84,-307.18\"/>\n<text text-anchor=\"middle\" x=\"198.34\" y=\"-318.8\" font-family=\"Times,serif\" font-size=\"14.00\">root</text>\n</g>\n<!-- изменения (2) -->\n<g id=\"node3\" class=\"node\">\n<title>изменения (2)</title>\n<ellipse fill=\"none\" stroke=\"black\" cx=\"64.34\" cy=\"-192\" rx=\"64.19\" ry=\"18\"/>\n<text text-anchor=\"middle\" x=\"64.34\" y=\"-188.3\" font-family=\"Times,serif\" font-size=\"14.00\">изменения (2)</text>\n</g>\n<!-- идут (3)&#45;&gt;изменения (2) -->\n<g id=\"edge2\" class=\"edge\">\n<title>идут (3)&#45;&gt;изменения (2)</title>\n<path fill=\"none\" stroke=\"black\" d=\"M166.2,-263.39C146.8,-249.98 117.8,-229.94 95.7,-214.67\"/>\n<polygon fill=\"black\" stroke=\"black\" points=\"97.52,-211.67 87.3,-208.86 93.54,-217.43 97.52,-211.67\"/>\n<text text-anchor=\"middle\" x=\"148.34\" y=\"-231.8\" font-family=\"Times,serif\" font-size=\"14.00\">nsubj</text>\n</g>\n<!-- рука (4) -->\n<g id=\"node4\" class=\"node\">\n<title>рука (4)</title>\n<ellipse fill=\"none\" stroke=\"black\" cx=\"187.34\" cy=\"-192\" rx=\"40.09\" ry=\"18\"/>\n<text text-anchor=\"middle\" x=\"187.34\" y=\"-188.3\" font-family=\"Times,serif\" font-size=\"14.00\">рука (4)</text>\n</g>\n<!-- идут (3)&#45;&gt;рука (4) -->\n<g id=\"edge3\" class=\"edge\">\n<title>идут (3)&#45;&gt;рука (4)</title>\n<path fill=\"none\" stroke=\"black\" d=\"M187.34,-260.8C187.34,-249.16 187.34,-233.55 187.34,-220.24\"/>\n<polygon fill=\"black\" stroke=\"black\" points=\"190.84,-220.18 187.34,-210.18 183.84,-220.18 190.84,-220.18\"/>\n<text text-anchor=\"middle\" x=\"196.34\" y=\"-231.8\" font-family=\"Times,serif\" font-size=\"14.00\">obl</text>\n</g>\n<!-- . (10) -->\n<g id=\"node5\" class=\"node\">\n<title>. (10)</title>\n<ellipse fill=\"none\" stroke=\"black\" cx=\"276.34\" cy=\"-192\" rx=\"30.59\" ry=\"18\"/>\n<text text-anchor=\"middle\" x=\"276.34\" y=\"-188.3\" font-family=\"Times,serif\" font-size=\"14.00\">. (10)</text>\n</g>\n<!-- идут (3)&#45;&gt;. (10) -->\n<g id=\"edge4\" class=\"edge\">\n<title>идут (3)&#45;&gt;. (10)</title>\n<path fill=\"none\" stroke=\"black\" d=\"M203.67,-262.41C217.73,-248.98 238.16,-229.47 253.78,-214.55\"/>\n<polygon fill=\"black\" stroke=\"black\" points=\"256.2,-217.08 261.02,-207.64 251.37,-212.01 256.2,-217.08\"/>\n<text text-anchor=\"middle\" x=\"252.84\" y=\"-231.8\" font-family=\"Times,serif\" font-size=\"14.00\">punct</text>\n</g>\n<!-- Эти (1) -->\n<g id=\"node11\" class=\"node\">\n<title>Эти (1)</title>\n<ellipse fill=\"none\" stroke=\"black\" cx=\"64.34\" cy=\"-105\" rx=\"38.19\" ry=\"18\"/>\n<text text-anchor=\"middle\" x=\"64.34\" y=\"-101.3\" font-family=\"Times,serif\" font-size=\"14.00\">Эти (1)</text>\n</g>\n<!-- изменения (2)&#45;&gt;Эти (1) -->\n<g id=\"edge10\" class=\"edge\">\n<title>изменения (2)&#45;&gt;Эти (1)</title>\n<path fill=\"none\" stroke=\"black\" d=\"M64.34,-173.8C64.34,-162.16 64.34,-146.55 64.34,-133.24\"/>\n<polygon fill=\"black\" stroke=\"black\" points=\"67.84,-133.18 64.34,-123.18 60.84,-133.18 67.84,-133.18\"/>\n<text text-anchor=\"middle\" x=\"72.84\" y=\"-144.8\" font-family=\"Times,serif\" font-size=\"14.00\">det</text>\n</g>\n<!-- руку (6) -->\n<g id=\"node6\" class=\"node\">\n<title>руку (6)</title>\n<ellipse fill=\"none\" stroke=\"black\" cx=\"174.34\" cy=\"-105\" rx=\"40.89\" ry=\"18\"/>\n<text text-anchor=\"middle\" x=\"174.34\" y=\"-101.3\" font-family=\"Times,serif\" font-size=\"14.00\">руку (6)</text>\n</g>\n<!-- рука (4)&#45;&gt;руку (6) -->\n<g id=\"edge5\" class=\"edge\">\n<title>рука (4)&#45;&gt;руку (6)</title>\n<path fill=\"none\" stroke=\"black\" d=\"M184.71,-173.8C182.93,-162.16 180.55,-146.55 178.51,-133.24\"/>\n<polygon fill=\"black\" stroke=\"black\" points=\"181.94,-132.53 176.97,-123.18 175.02,-133.59 181.94,-132.53\"/>\n<text text-anchor=\"middle\" x=\"198.34\" y=\"-144.8\" font-family=\"Times,serif\" font-size=\"14.00\">nmod</text>\n</g>\n<!-- коммуникациями (9) -->\n<g id=\"node7\" class=\"node\">\n<title>коммуникациями (9)</title>\n<ellipse fill=\"none\" stroke=\"black\" cx=\"324.34\" cy=\"-105\" rx=\"90.98\" ry=\"18\"/>\n<text text-anchor=\"middle\" x=\"324.34\" y=\"-101.3\" font-family=\"Times,serif\" font-size=\"14.00\">коммуникациями (9)</text>\n</g>\n<!-- рука (4)&#45;&gt;коммуникациями (9) -->\n<g id=\"edge6\" class=\"edge\">\n<title>рука (4)&#45;&gt;коммуникациями (9)</title>\n<path fill=\"none\" stroke=\"black\" d=\"M209.97,-176.96C231.49,-163.61 264.2,-143.32 289.14,-127.85\"/>\n<polygon fill=\"black\" stroke=\"black\" points=\"291.28,-130.63 297.93,-122.39 287.59,-124.68 291.28,-130.63\"/>\n<text text-anchor=\"middle\" x=\"280.34\" y=\"-144.8\" font-family=\"Times,serif\" font-size=\"14.00\">nmod</text>\n</g>\n<!-- об (5) -->\n<g id=\"node10\" class=\"node\">\n<title>об (5)</title>\n<ellipse fill=\"none\" stroke=\"black\" cx=\"174.34\" cy=\"-18\" rx=\"32.49\" ry=\"18\"/>\n<text text-anchor=\"middle\" x=\"174.34\" y=\"-14.3\" font-family=\"Times,serif\" font-size=\"14.00\">об (5)</text>\n</g>\n<!-- руку (6)&#45;&gt;об (5) -->\n<g id=\"edge9\" class=\"edge\">\n<title>руку (6)&#45;&gt;об (5)</title>\n<path fill=\"none\" stroke=\"black\" d=\"M174.34,-86.8C174.34,-75.16 174.34,-59.55 174.34,-46.24\"/>\n<polygon fill=\"black\" stroke=\"black\" points=\"177.84,-46.18 174.34,-36.18 170.84,-46.18 177.84,-46.18\"/>\n<text text-anchor=\"middle\" x=\"186.34\" y=\"-57.8\" font-family=\"Times,serif\" font-size=\"14.00\">case</text>\n</g>\n<!-- с (7) -->\n<g id=\"node8\" class=\"node\">\n<title>с (7)</title>\n<ellipse fill=\"none\" stroke=\"black\" cx=\"288.34\" cy=\"-18\" rx=\"27.1\" ry=\"18\"/>\n<text text-anchor=\"middle\" x=\"288.34\" y=\"-14.3\" font-family=\"Times,serif\" font-size=\"14.00\">с (7)</text>\n</g>\n<!-- коммуникациями (9)&#45;&gt;с (7) -->\n<g id=\"edge7\" class=\"edge\">\n<title>коммуникациями (9)&#45;&gt;с (7)</title>\n<path fill=\"none\" stroke=\"black\" d=\"M317.06,-86.8C311.97,-74.78 305.08,-58.51 299.32,-44.92\"/>\n<polygon fill=\"black\" stroke=\"black\" points=\"302.5,-43.44 295.37,-35.6 296.05,-46.17 302.5,-43.44\"/>\n<text text-anchor=\"middle\" x=\"321.34\" y=\"-57.8\" font-family=\"Times,serif\" font-size=\"14.00\">case</text>\n</g>\n<!-- цифровыми (8) -->\n<g id=\"node9\" class=\"node\">\n<title>цифровыми (8)</title>\n<ellipse fill=\"none\" stroke=\"black\" cx=\"403.34\" cy=\"-18\" rx=\"69.59\" ry=\"18\"/>\n<text text-anchor=\"middle\" x=\"403.34\" y=\"-14.3\" font-family=\"Times,serif\" font-size=\"14.00\">цифровыми (8)</text>\n</g>\n<!-- коммуникациями (9)&#45;&gt;цифровыми (8) -->\n<g id=\"edge8\" class=\"edge\">\n<title>коммуникациями (9)&#45;&gt;цифровыми (8)</title>\n<path fill=\"none\" stroke=\"black\" d=\"M339.95,-87.21C351.64,-74.63 367.79,-57.25 380.87,-43.18\"/>\n<polygon fill=\"black\" stroke=\"black\" points=\"383.52,-45.47 387.77,-35.76 378.4,-40.7 383.52,-45.47\"/>\n<text text-anchor=\"middle\" x=\"384.84\" y=\"-57.8\" font-family=\"Times,serif\" font-size=\"14.00\">amod</text>\n</g>\n</g>\n</svg>\n"
          },
          "metadata": {},
          "execution_count": 74
        }
      ],
      "source": [
        "draw_tree(str_tree)"
      ]
    },
    {
      "cell_type": "code",
      "execution_count": null,
      "metadata": {
        "colab": {
          "base_uri": "https://localhost:8080/",
          "height": 428
        },
        "id": "a_8Oxw6Bqbuj",
        "outputId": "376a60f8-331a-4cf6-f404-519aede398df"
      },
      "outputs": [
        {
          "output_type": "execute_result",
          "data": {
            "text/plain": [
              "<graphviz.dot.Digraph at 0x7f1ece2efeb0>"
            ],
            "image/svg+xml": "<?xml version=\"1.0\" encoding=\"UTF-8\" standalone=\"no\"?>\n<!DOCTYPE svg PUBLIC \"-//W3C//DTD SVG 1.1//EN\"\n \"http://www.w3.org/Graphics/SVG/1.1/DTD/svg11.dtd\">\n<!-- Generated by graphviz version 2.43.0 (0)\n -->\n<!-- Title: %3 Pages: 1 -->\n<svg width=\"615pt\" height=\"305pt\"\n viewBox=\"0.00 0.00 614.89 305.00\" xmlns=\"http://www.w3.org/2000/svg\" xmlns:xlink=\"http://www.w3.org/1999/xlink\">\n<g id=\"graph0\" class=\"graph\" transform=\"scale(1 1) rotate(0) translate(4 301)\">\n<title>%3</title>\n<polygon fill=\"white\" stroke=\"transparent\" points=\"-4,4 -4,-301 610.89,-301 610.89,4 -4,4\"/>\n<!--  (0) -->\n<g id=\"node1\" class=\"node\">\n<title> (0)</title>\n<ellipse fill=\"none\" stroke=\"black\" cx=\"286.34\" cy=\"-279\" rx=\"27\" ry=\"18\"/>\n<text text-anchor=\"middle\" x=\"286.34\" y=\"-275.3\" font-family=\"Times,serif\" font-size=\"14.00\"> (0)</text>\n</g>\n<!-- идут (3) -->\n<g id=\"node2\" class=\"node\">\n<title>идут (3)</title>\n<ellipse fill=\"none\" stroke=\"black\" cx=\"286.34\" cy=\"-192\" rx=\"40.89\" ry=\"18\"/>\n<text text-anchor=\"middle\" x=\"286.34\" y=\"-188.3\" font-family=\"Times,serif\" font-size=\"14.00\">идут (3)</text>\n</g>\n<!--  (0)&#45;&gt;идут (3) -->\n<g id=\"edge1\" class=\"edge\">\n<title> (0)&#45;&gt;идут (3)</title>\n<path fill=\"none\" stroke=\"black\" d=\"M286.34,-260.8C286.34,-249.16 286.34,-233.55 286.34,-220.24\"/>\n<polygon fill=\"black\" stroke=\"black\" points=\"289.84,-220.18 286.34,-210.18 282.84,-220.18 289.84,-220.18\"/>\n<text text-anchor=\"middle\" x=\"297.34\" y=\"-231.8\" font-family=\"Times,serif\" font-size=\"14.00\">root</text>\n</g>\n<!-- изменения (2) -->\n<g id=\"node3\" class=\"node\">\n<title>изменения (2)</title>\n<ellipse fill=\"none\" stroke=\"black\" cx=\"64.34\" cy=\"-105\" rx=\"64.19\" ry=\"18\"/>\n<text text-anchor=\"middle\" x=\"64.34\" y=\"-101.3\" font-family=\"Times,serif\" font-size=\"14.00\">изменения (2)</text>\n</g>\n<!-- идут (3)&#45;&gt;изменения (2) -->\n<g id=\"edge2\" class=\"edge\">\n<title>идут (3)&#45;&gt;изменения (2)</title>\n<path fill=\"none\" stroke=\"black\" d=\"M256.4,-179.54C218.88,-165.17 154.19,-140.4 110.36,-123.62\"/>\n<polygon fill=\"black\" stroke=\"black\" points=\"111.39,-120.27 100.8,-119.96 108.89,-126.8 111.39,-120.27\"/>\n<text text-anchor=\"middle\" x=\"204.34\" y=\"-144.8\" font-family=\"Times,serif\" font-size=\"14.00\">nsubj</text>\n</g>\n<!-- рука (4) -->\n<g id=\"node4\" class=\"node\">\n<title>рука (4)</title>\n<ellipse fill=\"none\" stroke=\"black\" cx=\"187.34\" cy=\"-105\" rx=\"40.09\" ry=\"18\"/>\n<text text-anchor=\"middle\" x=\"187.34\" y=\"-101.3\" font-family=\"Times,serif\" font-size=\"14.00\">рука (4)</text>\n</g>\n<!-- идут (3)&#45;&gt;рука (4) -->\n<g id=\"edge3\" class=\"edge\">\n<title>идут (3)&#45;&gt;рука (4)</title>\n<path fill=\"none\" stroke=\"black\" d=\"M268.19,-175.41C252.74,-162.15 230.38,-142.95 213.08,-128.1\"/>\n<polygon fill=\"black\" stroke=\"black\" points=\"214.92,-125.06 205.05,-121.21 210.36,-130.38 214.92,-125.06\"/>\n<text text-anchor=\"middle\" x=\"258.34\" y=\"-144.8\" font-family=\"Times,serif\" font-size=\"14.00\">nsubj</text>\n</g>\n<!-- руку (6) -->\n<g id=\"node5\" class=\"node\">\n<title>руку (6)</title>\n<ellipse fill=\"none\" stroke=\"black\" cx=\"286.34\" cy=\"-105\" rx=\"40.89\" ry=\"18\"/>\n<text text-anchor=\"middle\" x=\"286.34\" y=\"-101.3\" font-family=\"Times,serif\" font-size=\"14.00\">руку (6)</text>\n</g>\n<!-- идут (3)&#45;&gt;руку (6) -->\n<g id=\"edge4\" class=\"edge\">\n<title>идут (3)&#45;&gt;руку (6)</title>\n<path fill=\"none\" stroke=\"black\" d=\"M286.34,-173.8C286.34,-162.16 286.34,-146.55 286.34,-133.24\"/>\n<polygon fill=\"black\" stroke=\"black\" points=\"289.84,-133.18 286.34,-123.18 282.84,-133.18 289.84,-133.18\"/>\n<text text-anchor=\"middle\" x=\"295.34\" y=\"-144.8\" font-family=\"Times,serif\" font-size=\"14.00\">obl</text>\n</g>\n<!-- коммуникациями (9) -->\n<g id=\"node6\" class=\"node\">\n<title>коммуникациями (9)</title>\n<ellipse fill=\"none\" stroke=\"black\" cx=\"436.34\" cy=\"-105\" rx=\"90.98\" ry=\"18\"/>\n<text text-anchor=\"middle\" x=\"436.34\" y=\"-101.3\" font-family=\"Times,serif\" font-size=\"14.00\">коммуникациями (9)</text>\n</g>\n<!-- идут (3)&#45;&gt;коммуникациями (9) -->\n<g id=\"edge5\" class=\"edge\">\n<title>идут (3)&#45;&gt;коммуникациями (9)</title>\n<path fill=\"none\" stroke=\"black\" d=\"M310.44,-177.34C334.25,-163.85 371.02,-143.02 398.69,-127.34\"/>\n<polygon fill=\"black\" stroke=\"black\" points=\"400.71,-130.21 407.69,-122.24 397.26,-124.12 400.71,-130.21\"/>\n<text text-anchor=\"middle\" x=\"379.34\" y=\"-144.8\" font-family=\"Times,serif\" font-size=\"14.00\">obl</text>\n</g>\n<!-- . (10) -->\n<g id=\"node7\" class=\"node\">\n<title>. (10)</title>\n<ellipse fill=\"none\" stroke=\"black\" cx=\"576.34\" cy=\"-105\" rx=\"30.59\" ry=\"18\"/>\n<text text-anchor=\"middle\" x=\"576.34\" y=\"-101.3\" font-family=\"Times,serif\" font-size=\"14.00\">. (10)</text>\n</g>\n<!-- идут (3)&#45;&gt;. (10) -->\n<g id=\"edge6\" class=\"edge\">\n<title>идут (3)&#45;&gt;. (10)</title>\n<path fill=\"none\" stroke=\"black\" d=\"M322,-182.92C370.92,-171.47 461.34,-149 536.34,-123 538.71,-122.18 541.14,-121.28 543.58,-120.35\"/>\n<polygon fill=\"black\" stroke=\"black\" points=\"544.89,-123.59 552.86,-116.61 542.28,-117.1 544.89,-123.59\"/>\n<text text-anchor=\"middle\" x=\"491.84\" y=\"-144.8\" font-family=\"Times,serif\" font-size=\"14.00\">punct</text>\n</g>\n<!-- Эти (1) -->\n<g id=\"node11\" class=\"node\">\n<title>Эти (1)</title>\n<ellipse fill=\"none\" stroke=\"black\" cx=\"64.34\" cy=\"-18\" rx=\"38.19\" ry=\"18\"/>\n<text text-anchor=\"middle\" x=\"64.34\" y=\"-14.3\" font-family=\"Times,serif\" font-size=\"14.00\">Эти (1)</text>\n</g>\n<!-- изменения (2)&#45;&gt;Эти (1) -->\n<g id=\"edge10\" class=\"edge\">\n<title>изменения (2)&#45;&gt;Эти (1)</title>\n<path fill=\"none\" stroke=\"black\" d=\"M64.34,-86.8C64.34,-75.16 64.34,-59.55 64.34,-46.24\"/>\n<polygon fill=\"black\" stroke=\"black\" points=\"67.84,-46.18 64.34,-36.18 60.84,-46.18 67.84,-46.18\"/>\n<text text-anchor=\"middle\" x=\"72.84\" y=\"-57.8\" font-family=\"Times,serif\" font-size=\"14.00\">det</text>\n</g>\n<!-- об (5) -->\n<g id=\"node10\" class=\"node\">\n<title>об (5)</title>\n<ellipse fill=\"none\" stroke=\"black\" cx=\"286.34\" cy=\"-18\" rx=\"32.49\" ry=\"18\"/>\n<text text-anchor=\"middle\" x=\"286.34\" y=\"-14.3\" font-family=\"Times,serif\" font-size=\"14.00\">об (5)</text>\n</g>\n<!-- руку (6)&#45;&gt;об (5) -->\n<g id=\"edge9\" class=\"edge\">\n<title>руку (6)&#45;&gt;об (5)</title>\n<path fill=\"none\" stroke=\"black\" d=\"M286.34,-86.8C286.34,-75.16 286.34,-59.55 286.34,-46.24\"/>\n<polygon fill=\"black\" stroke=\"black\" points=\"289.84,-46.18 286.34,-36.18 282.84,-46.18 289.84,-46.18\"/>\n<text text-anchor=\"middle\" x=\"298.34\" y=\"-57.8\" font-family=\"Times,serif\" font-size=\"14.00\">case</text>\n</g>\n<!-- с (7) -->\n<g id=\"node8\" class=\"node\">\n<title>с (7)</title>\n<ellipse fill=\"none\" stroke=\"black\" cx=\"400.34\" cy=\"-18\" rx=\"27.1\" ry=\"18\"/>\n<text text-anchor=\"middle\" x=\"400.34\" y=\"-14.3\" font-family=\"Times,serif\" font-size=\"14.00\">с (7)</text>\n</g>\n<!-- коммуникациями (9)&#45;&gt;с (7) -->\n<g id=\"edge7\" class=\"edge\">\n<title>коммуникациями (9)&#45;&gt;с (7)</title>\n<path fill=\"none\" stroke=\"black\" d=\"M429.06,-86.8C423.97,-74.78 417.08,-58.51 411.32,-44.92\"/>\n<polygon fill=\"black\" stroke=\"black\" points=\"414.5,-43.44 407.37,-35.6 408.05,-46.17 414.5,-43.44\"/>\n<text text-anchor=\"middle\" x=\"433.34\" y=\"-57.8\" font-family=\"Times,serif\" font-size=\"14.00\">case</text>\n</g>\n<!-- цифровыми (8) -->\n<g id=\"node9\" class=\"node\">\n<title>цифровыми (8)</title>\n<ellipse fill=\"none\" stroke=\"black\" cx=\"515.34\" cy=\"-18\" rx=\"69.59\" ry=\"18\"/>\n<text text-anchor=\"middle\" x=\"515.34\" y=\"-14.3\" font-family=\"Times,serif\" font-size=\"14.00\">цифровыми (8)</text>\n</g>\n<!-- коммуникациями (9)&#45;&gt;цифровыми (8) -->\n<g id=\"edge8\" class=\"edge\">\n<title>коммуникациями (9)&#45;&gt;цифровыми (8)</title>\n<path fill=\"none\" stroke=\"black\" d=\"M451.95,-87.21C463.64,-74.63 479.79,-57.25 492.87,-43.18\"/>\n<polygon fill=\"black\" stroke=\"black\" points=\"495.52,-45.47 499.77,-35.76 490.4,-40.7 495.52,-45.47\"/>\n<text text-anchor=\"middle\" x=\"496.84\" y=\"-57.8\" font-family=\"Times,serif\" font-size=\"14.00\">amod</text>\n</g>\n</g>\n</svg>\n"
          },
          "metadata": {},
          "execution_count": 75
        }
      ],
      "source": [
        "draw_tree(taiga_tree)"
      ]
    },
    {
      "cell_type": "markdown",
      "metadata": {
        "id": "jU8n4urmqbul"
      },
      "source": [
        "Теперь можно переходить к расчету метрик"
      ]
    },
    {
      "cell_type": "markdown",
      "metadata": {
        "id": "VI1qm9bGqbuo"
      },
      "source": [
        "## Вычисление LAS и UAS\n",
        "\n",
        "Для этого набираем множества всех рёбер с метками и без и смотрим на размеры пересечений."
      ]
    },
    {
      "cell_type": "code",
      "execution_count": null,
      "metadata": {
        "id": "fEetAmXx6wAM"
      },
      "outputs": [],
      "source": [
        "def edges_sets(tree):\n",
        "  \"\"\" Reading edges encoded as strings \"\"\"\n",
        "\n",
        "  edges_labeled = []\n",
        "  edges_unlabeled = []\n",
        "  queue = [Root(tree)]\n",
        "  \n",
        "  while len(queue) > 0:\n",
        "    head = queue.pop()\n",
        "    head_label = head.token[\"form\"] + \" (%d)\" % head.token[\"id\"]\n",
        "    queue.extend(head.children)\n",
        "    \n",
        "    for c in head.children:\n",
        "      c_label = c.token[\"form\"] + \" (%d)\" %  c.token[\"id\"]\n",
        "      edges_unlabeled.append((head_label, c_label))\n",
        "      edges_labeled.append((head_label, c_label, c.token[\"deprel\"]))\n",
        "  \n",
        "  return set(edges_labeled), set(edges_unlabeled)"
      ]
    },
    {
      "cell_type": "code",
      "execution_count": null,
      "metadata": {
        "colab": {
          "base_uri": "https://localhost:8080/",
          "height": 35
        },
        "id": "SCT4HgK_i6cU",
        "outputId": "de44204f-6926-4736-9225-ac2a5fab6252"
      },
      "outputs": [
        {
          "output_type": "execute_result",
          "data": {
            "text/plain": [
              "'LAS: 0.700 UAS: 0.800'"
            ],
            "application/vnd.google.colaboratory.intrinsic+json": {
              "type": "string"
            }
          },
          "metadata": {},
          "execution_count": 77
        }
      ],
      "source": [
        "def accuracy(gold, pred):\n",
        "  gold_labeled, gold_unlabeled = edges_sets(gold)\n",
        "  pred_labeled, pred_unlabeled = edges_sets(pred)\n",
        "\n",
        "  return len(gold_labeled.intersection(pred_labeled)) / len(gold_labeled), \\\n",
        "          len(gold_unlabeled.intersection(pred_unlabeled)) / len(gold_unlabeled)\n",
        "\n",
        "LAS, UAS = accuracy(str_tree, taiga_tree)\n",
        "\"LAS: %.3f UAS: %.3f\" % (LAS, UAS)"
      ]
    },
    {
      "cell_type": "markdown",
      "metadata": {
        "id": "XPsQ9gBtrKVL"
      },
      "source": [
        "Можно заметить, что в первом случае слово <code>башмачки</code> зависит от слова <code>порвались</code>, а во втором -- от слова <code>скалы</code>.\n",
        "Отдельно хотим напомнить, что таким образом корректно сравнивать парсеры только в том случае, когда токензация полностью совпадает."
      ]
    },
    {
      "cell_type": "markdown",
      "metadata": {
        "id": "n08jVsZwu_5R"
      },
      "source": [
        "## Вычисление глубины дерева"
      ]
    },
    {
      "cell_type": "markdown",
      "metadata": {
        "id": "B9LoRI_Hu_5R"
      },
      "source": [
        "Вычислим глубину дерева, например, для разбора модели taiga (ребро root не учитывается).\n",
        "\n",
        "Для этого также можно использовать, например, обход в ширину."
      ]
    },
    {
      "cell_type": "code",
      "execution_count": null,
      "metadata": {
        "colab": {
          "base_uri": "https://localhost:8080/"
        },
        "id": "_WKDvvPxi6cX",
        "outputId": "0517e8a2-cac1-4ec7-b1fe-d41a376beff3"
      },
      "outputs": [
        {
          "output_type": "stream",
          "name": "stdout",
          "text": [
            "Глубина дерева:  3\n"
          ]
        }
      ],
      "source": [
        "depth_taiga = 0\n",
        "queue = [(taiga_tree, depth_taiga)]\n",
        "\n",
        "while len(queue) > 0:\n",
        "    head, depth_taiga = queue.pop(0)\n",
        "    queue.extend([(c, depth_taiga + 1) for c in head.children])\n",
        "    # print(\"checking\", head.token[\"form\"])\n",
        "\n",
        "depth_str = 0\n",
        "queue = [(str_tree, depth_str)]\n",
        "\n",
        "while len(queue) > 0:\n",
        "    head, depth_str = queue.pop(0)\n",
        "    queue.extend([(c, depth_str + 1) for c in head.children])\n",
        "    # print(\"checking\", head.token[\"form\"])\n",
        "    \n",
        "if depth_taiga > depth_str:\n",
        "  print(\"Глубина дерева: \", depth_taiga)\n",
        "else:\n",
        "  print(\"Глубина дерева: \", depth_str)"
      ]
    }
  ],
  "metadata": {
    "colab": {
      "provenance": []
    },
    "kernelspec": {
      "display_name": "Python 3",
      "language": "python",
      "name": "python3"
    },
    "language_info": {
      "codemirror_mode": {
        "name": "ipython",
        "version": 3
      },
      "file_extension": ".py",
      "mimetype": "text/x-python",
      "name": "python",
      "nbconvert_exporter": "python",
      "pygments_lexer": "ipython3",
      "version": "3.7.6"
    }
  },
  "nbformat": 4,
  "nbformat_minor": 0
}